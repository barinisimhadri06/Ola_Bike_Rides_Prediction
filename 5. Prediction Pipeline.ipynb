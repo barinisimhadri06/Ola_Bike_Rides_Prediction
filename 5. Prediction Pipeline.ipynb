{
 "cells": [
  {
   "cell_type": "markdown",
   "metadata": {},
   "source": [
    "### Task: Given 26th March 2021 demand - clean dataset based on business team rules; we need to forecast demand for first 3 (30mins internal) demand value of 27th March 2021.\n",
    "\n",
    "Author: [Shaurya Uppal](https://www.linkedin.com/in/shaurya-uppal/)"
   ]
  },
  {
   "cell_type": "code",
   "execution_count": 2,
   "metadata": {},
   "outputs": [],
   "source": [
    "import pandas as pd\n",
    "import numpy as np\n",
    "from joblib import load, dump\n",
    "from sklearn.cluster import MiniBatchKMeans, KMeans\n",
    "from sklearn.ensemble import RandomForestRegressor\n",
    "from sklearn.metrics import mean_squared_error\n",
    "from math import sqrt, ceil, floor\n",
    "from datetime import datetime, timedelta"
   ]
  },
  {
   "cell_type": "code",
   "execution_count": 3,
   "metadata": {},
   "outputs": [],
   "source": [
    "def round_timestamp_30interval(x):\n",
    "    if type(x)==str:\n",
    "        x = datetime.strptime(x, '%Y-%m-%d %H:%M:%S')\n",
    "    return x- timedelta(minutes=x.minute%30, seconds=x.second, microseconds=x.microsecond)\n",
    "\n",
    "def time_features(data):\n",
    "    data['mins'] = data.ts.dt.minute\n",
    "    data['hour'] = data.ts.dt.hour\n",
    "    data['day'] = data.ts.dt.day\n",
    "    data['month'] = data.ts.dt.month\n",
    "    data['dayofweek'] = data.ts.dt.dayofweek\n",
    "    data['quarter'] = data.ts.dt.quarter\n",
    "    return data\n",
    "\n",
    "def prediction_without_lag(df):\n",
    "    return predict_without_lag.predict(df[['pickup_cluster','mins','hour','month','quarter','dayofweek']])\n",
    "\n",
    "def prediction_with_lag(df):\n",
    "    return predict_with_lag.predict(df[['pickup_cluster', 'mins', 'hour', 'month', 'quarter',\n",
    "           'dayofweek', 'lag_1', 'lag_2', 'lag_3','rolling_mean']])\n",
    "\n",
    "def shift_with_lag_and_rollingmean(df):\n",
    "    df = df.sort_values(by=['pickup_cluster', 'ts']).drop_duplicates(subset=['ts','pickup_cluster'])\n",
    "    df = df.set_index(['ts', 'pickup_cluster', 'mins', 'hour', 'month', 'quarter', 'dayofweek'])\n",
    "    df['lag_1'] = df.groupby(level=['pickup_cluster'])['request_count'].shift(1)\n",
    "    df['lag_2'] = df.groupby(level=['pickup_cluster'])['request_count'].shift(2)\n",
    "    df['lag_3'] = df.groupby(level=['pickup_cluster'])['request_count'].shift(3)\n",
    "    df['rolling_mean'] = df.groupby(level=['pickup_cluster'])['request_count'].apply(lambda x: x.rolling(window = 3).mean()).shift(1)\n",
    "\n",
    "    df = df.reset_index(drop = False).dropna()\n",
    "    df = df[['ts', 'pickup_cluster', 'mins', 'hour', 'month', 'quarter',\n",
    "           'dayofweek', 'lag_1', 'lag_2', 'lag_3','rolling_mean','request_count']]\n",
    "    return df\n"
   ]
  },
  {
   "cell_type": "code",
   "execution_count": 4,
   "metadata": {},
   "outputs": [
    {
     "output_type": "stream",
     "name": "stderr",
     "text": [
      "C:\\Users\\LENOVO\\anaconda3\\lib\\site-packages\\sklearn\\base.py:329: UserWarning: Trying to unpickle estimator MiniBatchKMeans from version 0.24.1 when using version 0.23.2. This might lead to breaking code or invalid results. Use at your own risk.\n  warnings.warn(\n"
     ]
    }
   ],
   "source": [
    "\n",
    "df = pd.read_csv('../Data/test_dataset/cleaned_test_booking_data.csv', compression = 'gzip', low_memory=False)\n",
    "cluster_model = load('../Model/pickup_cluster_model.joblib')\n",
    "predict_without_lag = load('E:\\PROJECTpro\\PROJECTS\\project_3_demand_prediction\\Project3_OLABikes\\modular_code\\output\\prediction_model_without_lag_1.joblib')\n",
    "predict_with_lag = load('E:\\PROJECTpro\\PROJECTS\\project_3_demand_prediction\\Project3_OLABikes\\modular_code\\output\\prediction_model_with_lag.joblib')\n"
   ]
  },
  {
   "cell_type": "markdown",
   "metadata": {},
   "source": [
    "### Use Clustering Kmeans Model for Geospacial Feature - `pickup_cluster`"
   ]
  },
  {
   "cell_type": "code",
   "execution_count": 5,
   "metadata": {},
   "outputs": [
    {
     "output_type": "execute_result",
     "data": {
      "text/plain": [
       "                    ts  number   pick_lat   pick_lng   drop_lat   drop_lng  \\\n",
       "0  2021-03-26 06:49:38      -1  12.903468  77.637080  12.916259  77.675476   \n",
       "1  2021-03-26 15:14:23       0  12.903838  77.591774  12.890039  77.593720   \n",
       "2  2021-03-26 15:57:32       6  12.963516  77.674740  12.912828  77.627310   \n",
       "3  2021-03-26 23:34:53       7  12.944017  77.564270  12.967625  77.608060   \n",
       "4  2021-03-26 23:45:56       9  12.983270  77.752070  12.963221  77.748400   \n",
       "5  2021-03-26 18:54:05      11  12.919469  77.671100  12.933288  77.607310   \n",
       "6  2021-03-26 18:42:49      15  12.947335  77.684310  12.974627  77.606064   \n",
       "7  2021-03-26 23:14:56      15  12.979332  77.640590  12.947475  77.684230   \n",
       "8  2021-03-26 10:59:13      17  12.923716  77.607410  12.922842  77.593240   \n",
       "9  2021-03-26 16:44:09      53  12.888448  77.577240  12.937987  77.568726   \n",
       "\n",
       "   pickup_cluster  \n",
       "0              31  \n",
       "1              24  \n",
       "2              32  \n",
       "3              45  \n",
       "4              41  \n",
       "5              49  \n",
       "6               0  \n",
       "7              27  \n",
       "8              18  \n",
       "9              11  "
      ],
      "text/html": "<div>\n<style scoped>\n    .dataframe tbody tr th:only-of-type {\n        vertical-align: middle;\n    }\n\n    .dataframe tbody tr th {\n        vertical-align: top;\n    }\n\n    .dataframe thead th {\n        text-align: right;\n    }\n</style>\n<table border=\"1\" class=\"dataframe\">\n  <thead>\n    <tr style=\"text-align: right;\">\n      <th></th>\n      <th>ts</th>\n      <th>number</th>\n      <th>pick_lat</th>\n      <th>pick_lng</th>\n      <th>drop_lat</th>\n      <th>drop_lng</th>\n      <th>pickup_cluster</th>\n    </tr>\n  </thead>\n  <tbody>\n    <tr>\n      <th>0</th>\n      <td>2021-03-26 06:49:38</td>\n      <td>-1</td>\n      <td>12.903468</td>\n      <td>77.637080</td>\n      <td>12.916259</td>\n      <td>77.675476</td>\n      <td>31</td>\n    </tr>\n    <tr>\n      <th>1</th>\n      <td>2021-03-26 15:14:23</td>\n      <td>0</td>\n      <td>12.903838</td>\n      <td>77.591774</td>\n      <td>12.890039</td>\n      <td>77.593720</td>\n      <td>24</td>\n    </tr>\n    <tr>\n      <th>2</th>\n      <td>2021-03-26 15:57:32</td>\n      <td>6</td>\n      <td>12.963516</td>\n      <td>77.674740</td>\n      <td>12.912828</td>\n      <td>77.627310</td>\n      <td>32</td>\n    </tr>\n    <tr>\n      <th>3</th>\n      <td>2021-03-26 23:34:53</td>\n      <td>7</td>\n      <td>12.944017</td>\n      <td>77.564270</td>\n      <td>12.967625</td>\n      <td>77.608060</td>\n      <td>45</td>\n    </tr>\n    <tr>\n      <th>4</th>\n      <td>2021-03-26 23:45:56</td>\n      <td>9</td>\n      <td>12.983270</td>\n      <td>77.752070</td>\n      <td>12.963221</td>\n      <td>77.748400</td>\n      <td>41</td>\n    </tr>\n    <tr>\n      <th>5</th>\n      <td>2021-03-26 18:54:05</td>\n      <td>11</td>\n      <td>12.919469</td>\n      <td>77.671100</td>\n      <td>12.933288</td>\n      <td>77.607310</td>\n      <td>49</td>\n    </tr>\n    <tr>\n      <th>6</th>\n      <td>2021-03-26 18:42:49</td>\n      <td>15</td>\n      <td>12.947335</td>\n      <td>77.684310</td>\n      <td>12.974627</td>\n      <td>77.606064</td>\n      <td>0</td>\n    </tr>\n    <tr>\n      <th>7</th>\n      <td>2021-03-26 23:14:56</td>\n      <td>15</td>\n      <td>12.979332</td>\n      <td>77.640590</td>\n      <td>12.947475</td>\n      <td>77.684230</td>\n      <td>27</td>\n    </tr>\n    <tr>\n      <th>8</th>\n      <td>2021-03-26 10:59:13</td>\n      <td>17</td>\n      <td>12.923716</td>\n      <td>77.607410</td>\n      <td>12.922842</td>\n      <td>77.593240</td>\n      <td>18</td>\n    </tr>\n    <tr>\n      <th>9</th>\n      <td>2021-03-26 16:44:09</td>\n      <td>53</td>\n      <td>12.888448</td>\n      <td>77.577240</td>\n      <td>12.937987</td>\n      <td>77.568726</td>\n      <td>11</td>\n    </tr>\n  </tbody>\n</table>\n</div>"
     },
     "metadata": {},
     "execution_count": 5
    }
   ],
   "source": [
    "df['pickup_cluster'] = cluster_model.predict(df[['pick_lat','pick_lng']])\n",
    "df.head(10)"
   ]
  },
  {
   "cell_type": "markdown",
   "metadata": {},
   "source": [
    "### Data preparation and processing"
   ]
  },
  {
   "cell_type": "code",
   "execution_count": 6,
   "metadata": {},
   "outputs": [],
   "source": [
    "df['ts'] = np.vectorize(round_timestamp_30interval)(df['ts'])\n",
    "df['ts'] = pd.to_datetime(df['ts'])\n",
    "\n",
    "df = df[['ts','number','pickup_cluster']]\n",
    "df=df.groupby(by = ['ts','pickup_cluster']).count().reset_index()\n",
    "df.columns = ['ts','pickup_cluster','request_count']\n",
    "\n",
    "## Adding Dummy pickup cluster -1\n",
    "\n",
    "## Change this Data based on your data\n",
    "l = [datetime(2021,3,26,00,00,00) + timedelta(minutes = 30*i) for i in range(0,51)]\n",
    "lt = []\n",
    "for x in l:\n",
    "    lt.append([x, -1, 0])\n",
    "temp = pd.DataFrame(lt, columns = ['ts','pickup_cluster','request_count'])\n",
    "df = df.append(temp,ignore_index=True)\n",
    "\n",
    "data = df.set_index(['ts', 'pickup_cluster']).unstack().fillna(value=0).asfreq(freq='30Min').stack().sort_index(level=1).reset_index()\n",
    "\n",
    "# Removing Dummy Cluster\n",
    "data = data[data.pickup_cluster>=0]\n",
    "\n",
    "df = time_features(data)"
   ]
  },
  {
   "cell_type": "markdown",
   "metadata": {},
   "source": [
    "### Model without Lag (past data) requirement"
   ]
  },
  {
   "cell_type": "code",
   "execution_count": 7,
   "metadata": {},
   "outputs": [
    {
     "output_type": "stream",
     "name": "stderr",
     "text": [
      "C:\\Users\\LENOVO\\anaconda3\\lib\\site-packages\\xgboost\\data.py:112: UserWarning: Use subset (sliced data) of np.ndarray is not recommended because it will generate extra copies and increase memory consumption\n  warnings.warn(\n"
     ]
    },
    {
     "output_type": "execute_result",
     "data": {
      "text/plain": [
       "                      ts  pickup_cluster  request_count  mins  hour  day  \\\n",
       "99   2021-03-27 00:00:00               0       6.871499     0     0   27   \n",
       "100  2021-03-27 00:30:00               0       3.866220    30     0   27   \n",
       "101  2021-03-27 01:00:00               0       1.812883     0     1   27   \n",
       "150  2021-03-27 00:00:00               1       1.014596     0     0   27   \n",
       "151  2021-03-27 00:30:00               1       0.651106    30     0   27   \n",
       "...                  ...             ...            ...   ...   ...  ...   \n",
       "2395 2021-03-27 00:30:00              48       3.350918    30     0   27   \n",
       "2396 2021-03-27 01:00:00              48       1.508002     0     1   27   \n",
       "2445 2021-03-27 00:00:00              49       4.490405     0     0   27   \n",
       "2446 2021-03-27 00:30:00              49       3.047003    30     0   27   \n",
       "2447 2021-03-27 01:00:00              49       1.229144     0     1   27   \n",
       "\n",
       "      month  dayofweek  quarter  \n",
       "99        3          5        1  \n",
       "100       3          5        1  \n",
       "101       3          5        1  \n",
       "150       3          5        1  \n",
       "151       3          5        1  \n",
       "...     ...        ...      ...  \n",
       "2395      3          5        1  \n",
       "2396      3          5        1  \n",
       "2445      3          5        1  \n",
       "2446      3          5        1  \n",
       "2447      3          5        1  \n",
       "\n",
       "[141 rows x 9 columns]"
      ],
      "text/html": "<div>\n<style scoped>\n    .dataframe tbody tr th:only-of-type {\n        vertical-align: middle;\n    }\n\n    .dataframe tbody tr th {\n        vertical-align: top;\n    }\n\n    .dataframe thead th {\n        text-align: right;\n    }\n</style>\n<table border=\"1\" class=\"dataframe\">\n  <thead>\n    <tr style=\"text-align: right;\">\n      <th></th>\n      <th>ts</th>\n      <th>pickup_cluster</th>\n      <th>request_count</th>\n      <th>mins</th>\n      <th>hour</th>\n      <th>day</th>\n      <th>month</th>\n      <th>dayofweek</th>\n      <th>quarter</th>\n    </tr>\n  </thead>\n  <tbody>\n    <tr>\n      <th>99</th>\n      <td>2021-03-27 00:00:00</td>\n      <td>0</td>\n      <td>6.871499</td>\n      <td>0</td>\n      <td>0</td>\n      <td>27</td>\n      <td>3</td>\n      <td>5</td>\n      <td>1</td>\n    </tr>\n    <tr>\n      <th>100</th>\n      <td>2021-03-27 00:30:00</td>\n      <td>0</td>\n      <td>3.866220</td>\n      <td>30</td>\n      <td>0</td>\n      <td>27</td>\n      <td>3</td>\n      <td>5</td>\n      <td>1</td>\n    </tr>\n    <tr>\n      <th>101</th>\n      <td>2021-03-27 01:00:00</td>\n      <td>0</td>\n      <td>1.812883</td>\n      <td>0</td>\n      <td>1</td>\n      <td>27</td>\n      <td>3</td>\n      <td>5</td>\n      <td>1</td>\n    </tr>\n    <tr>\n      <th>150</th>\n      <td>2021-03-27 00:00:00</td>\n      <td>1</td>\n      <td>1.014596</td>\n      <td>0</td>\n      <td>0</td>\n      <td>27</td>\n      <td>3</td>\n      <td>5</td>\n      <td>1</td>\n    </tr>\n    <tr>\n      <th>151</th>\n      <td>2021-03-27 00:30:00</td>\n      <td>1</td>\n      <td>0.651106</td>\n      <td>30</td>\n      <td>0</td>\n      <td>27</td>\n      <td>3</td>\n      <td>5</td>\n      <td>1</td>\n    </tr>\n    <tr>\n      <th>...</th>\n      <td>...</td>\n      <td>...</td>\n      <td>...</td>\n      <td>...</td>\n      <td>...</td>\n      <td>...</td>\n      <td>...</td>\n      <td>...</td>\n      <td>...</td>\n    </tr>\n    <tr>\n      <th>2395</th>\n      <td>2021-03-27 00:30:00</td>\n      <td>48</td>\n      <td>3.350918</td>\n      <td>30</td>\n      <td>0</td>\n      <td>27</td>\n      <td>3</td>\n      <td>5</td>\n      <td>1</td>\n    </tr>\n    <tr>\n      <th>2396</th>\n      <td>2021-03-27 01:00:00</td>\n      <td>48</td>\n      <td>1.508002</td>\n      <td>0</td>\n      <td>1</td>\n      <td>27</td>\n      <td>3</td>\n      <td>5</td>\n      <td>1</td>\n    </tr>\n    <tr>\n      <th>2445</th>\n      <td>2021-03-27 00:00:00</td>\n      <td>49</td>\n      <td>4.490405</td>\n      <td>0</td>\n      <td>0</td>\n      <td>27</td>\n      <td>3</td>\n      <td>5</td>\n      <td>1</td>\n    </tr>\n    <tr>\n      <th>2446</th>\n      <td>2021-03-27 00:30:00</td>\n      <td>49</td>\n      <td>3.047003</td>\n      <td>30</td>\n      <td>0</td>\n      <td>27</td>\n      <td>3</td>\n      <td>5</td>\n      <td>1</td>\n    </tr>\n    <tr>\n      <th>2447</th>\n      <td>2021-03-27 01:00:00</td>\n      <td>49</td>\n      <td>1.229144</td>\n      <td>0</td>\n      <td>1</td>\n      <td>27</td>\n      <td>3</td>\n      <td>5</td>\n      <td>1</td>\n    </tr>\n  </tbody>\n</table>\n<p>141 rows × 9 columns</p>\n</div>"
     },
     "metadata": {},
     "execution_count": 7
    }
   ],
   "source": [
    "data_without_lag = df[df['ts']>=datetime(2021,3,27,00,00,00)].__copy__()\n",
    "data_without_lag['request_count'] = prediction_without_lag(data_without_lag)\n",
    "data_without_lag"
   ]
  },
  {
   "cell_type": "code",
   "execution_count": 8,
   "metadata": {},
   "outputs": [],
   "source": [
    "data_without_lag.to_csv('../Data/test_dataset_prediction_output/prediction_without_lag_model.csv',index = False, compression = 'gzip')"
   ]
  },
  {
   "cell_type": "markdown",
   "metadata": {},
   "source": [
    "### Using Iteration 3 - Best Model with Lag Features and Rolling Means (Recursive Multi-Step Forecast used)"
   ]
  },
  {
   "cell_type": "code",
   "execution_count": 9,
   "metadata": {},
   "outputs": [
    {
     "output_type": "stream",
     "name": "stderr",
     "text": [
      "C:\\Users\\LENOVO\\anaconda3\\lib\\site-packages\\xgboost\\data.py:112: UserWarning: Use subset (sliced data) of np.ndarray is not recommended because it will generate extra copies and increase memory consumption\n",
      "  warnings.warn(\n",
      "C:\\Users\\LENOVO\\anaconda3\\lib\\site-packages\\xgboost\\data.py:112: UserWarning: Use subset (sliced data) of np.ndarray is not recommended because it will generate extra copies and increase memory consumption\n",
      "  warnings.warn(\n",
      "C:\\Users\\LENOVO\\anaconda3\\lib\\site-packages\\xgboost\\data.py:112: UserWarning: Use subset (sliced data) of np.ndarray is not recommended because it will generate extra copies and increase memory consumption\n",
      "  warnings.warn(\n"
     ]
    }
   ],
   "source": [
    "start_date = datetime(2021,3,27,00,00,00) \n",
    "for x in range(3):\n",
    "    df = shift_with_lag_and_rollingmean(df)\n",
    "    df.loc[df[df['ts']==start_date+timedelta(minutes=30*x)].index,'request_count'] = prediction_with_lag(df[df['ts']==start_date+timedelta(minutes=30*x)])"
   ]
  },
  {
   "cell_type": "code",
   "execution_count": 10,
   "metadata": {},
   "outputs": [
    {
     "output_type": "execute_result",
     "data": {
      "text/plain": [
       "                      ts  pickup_cluster  mins  hour  month  quarter  \\\n",
       "42   2021-03-27 00:00:00               0     0     0      3        1   \n",
       "43   2021-03-27 00:30:00               0    30     0      3        1   \n",
       "44   2021-03-27 01:00:00               0     0     1      3        1   \n",
       "87   2021-03-27 00:00:00               1     0     0      3        1   \n",
       "88   2021-03-27 00:30:00               1    30     0      3        1   \n",
       "...                  ...             ...   ...   ...    ...      ...   \n",
       "2068 2021-03-27 00:30:00              48    30     0      3        1   \n",
       "2069 2021-03-27 01:00:00              48     0     1      3        1   \n",
       "2112 2021-03-27 00:00:00              49     0     0      3        1   \n",
       "2113 2021-03-27 00:30:00              49    30     0      3        1   \n",
       "2114 2021-03-27 01:00:00              49     0     1      3        1   \n",
       "\n",
       "      dayofweek     lag_1      lag_2  lag_3  rolling_mean  request_count  \n",
       "42            5  8.000000  14.000000   19.0     13.666667       5.236571  \n",
       "43            5  5.236571   8.000000   14.0      9.078857       3.354270  \n",
       "44            5  3.354270   5.236571    8.0      5.530281       1.969474  \n",
       "87            5  1.000000   3.000000    4.0      2.666667       0.762030  \n",
       "88            5  0.762030   1.000000    3.0      1.587343       0.442128  \n",
       "...         ...       ...        ...    ...           ...            ...  \n",
       "2068          5  4.388031   5.000000   11.0      6.796010       2.704878  \n",
       "2069          5  2.704878   4.388031    5.0      4.030970       1.651302  \n",
       "2112          5  7.000000  10.000000   13.0     10.000000       4.195784  \n",
       "2113          5  4.195784   7.000000   10.0      7.065261       2.776667  \n",
       "2114          5  2.776667   4.195784    7.0      4.657483       1.824132  \n",
       "\n",
       "[141 rows x 12 columns]"
      ],
      "text/html": "<div>\n<style scoped>\n    .dataframe tbody tr th:only-of-type {\n        vertical-align: middle;\n    }\n\n    .dataframe tbody tr th {\n        vertical-align: top;\n    }\n\n    .dataframe thead th {\n        text-align: right;\n    }\n</style>\n<table border=\"1\" class=\"dataframe\">\n  <thead>\n    <tr style=\"text-align: right;\">\n      <th></th>\n      <th>ts</th>\n      <th>pickup_cluster</th>\n      <th>mins</th>\n      <th>hour</th>\n      <th>month</th>\n      <th>quarter</th>\n      <th>dayofweek</th>\n      <th>lag_1</th>\n      <th>lag_2</th>\n      <th>lag_3</th>\n      <th>rolling_mean</th>\n      <th>request_count</th>\n    </tr>\n  </thead>\n  <tbody>\n    <tr>\n      <th>42</th>\n      <td>2021-03-27 00:00:00</td>\n      <td>0</td>\n      <td>0</td>\n      <td>0</td>\n      <td>3</td>\n      <td>1</td>\n      <td>5</td>\n      <td>8.000000</td>\n      <td>14.000000</td>\n      <td>19.0</td>\n      <td>13.666667</td>\n      <td>5.236571</td>\n    </tr>\n    <tr>\n      <th>43</th>\n      <td>2021-03-27 00:30:00</td>\n      <td>0</td>\n      <td>30</td>\n      <td>0</td>\n      <td>3</td>\n      <td>1</td>\n      <td>5</td>\n      <td>5.236571</td>\n      <td>8.000000</td>\n      <td>14.0</td>\n      <td>9.078857</td>\n      <td>3.354270</td>\n    </tr>\n    <tr>\n      <th>44</th>\n      <td>2021-03-27 01:00:00</td>\n      <td>0</td>\n      <td>0</td>\n      <td>1</td>\n      <td>3</td>\n      <td>1</td>\n      <td>5</td>\n      <td>3.354270</td>\n      <td>5.236571</td>\n      <td>8.0</td>\n      <td>5.530281</td>\n      <td>1.969474</td>\n    </tr>\n    <tr>\n      <th>87</th>\n      <td>2021-03-27 00:00:00</td>\n      <td>1</td>\n      <td>0</td>\n      <td>0</td>\n      <td>3</td>\n      <td>1</td>\n      <td>5</td>\n      <td>1.000000</td>\n      <td>3.000000</td>\n      <td>4.0</td>\n      <td>2.666667</td>\n      <td>0.762030</td>\n    </tr>\n    <tr>\n      <th>88</th>\n      <td>2021-03-27 00:30:00</td>\n      <td>1</td>\n      <td>30</td>\n      <td>0</td>\n      <td>3</td>\n      <td>1</td>\n      <td>5</td>\n      <td>0.762030</td>\n      <td>1.000000</td>\n      <td>3.0</td>\n      <td>1.587343</td>\n      <td>0.442128</td>\n    </tr>\n    <tr>\n      <th>...</th>\n      <td>...</td>\n      <td>...</td>\n      <td>...</td>\n      <td>...</td>\n      <td>...</td>\n      <td>...</td>\n      <td>...</td>\n      <td>...</td>\n      <td>...</td>\n      <td>...</td>\n      <td>...</td>\n      <td>...</td>\n    </tr>\n    <tr>\n      <th>2068</th>\n      <td>2021-03-27 00:30:00</td>\n      <td>48</td>\n      <td>30</td>\n      <td>0</td>\n      <td>3</td>\n      <td>1</td>\n      <td>5</td>\n      <td>4.388031</td>\n      <td>5.000000</td>\n      <td>11.0</td>\n      <td>6.796010</td>\n      <td>2.704878</td>\n    </tr>\n    <tr>\n      <th>2069</th>\n      <td>2021-03-27 01:00:00</td>\n      <td>48</td>\n      <td>0</td>\n      <td>1</td>\n      <td>3</td>\n      <td>1</td>\n      <td>5</td>\n      <td>2.704878</td>\n      <td>4.388031</td>\n      <td>5.0</td>\n      <td>4.030970</td>\n      <td>1.651302</td>\n    </tr>\n    <tr>\n      <th>2112</th>\n      <td>2021-03-27 00:00:00</td>\n      <td>49</td>\n      <td>0</td>\n      <td>0</td>\n      <td>3</td>\n      <td>1</td>\n      <td>5</td>\n      <td>7.000000</td>\n      <td>10.000000</td>\n      <td>13.0</td>\n      <td>10.000000</td>\n      <td>4.195784</td>\n    </tr>\n    <tr>\n      <th>2113</th>\n      <td>2021-03-27 00:30:00</td>\n      <td>49</td>\n      <td>30</td>\n      <td>0</td>\n      <td>3</td>\n      <td>1</td>\n      <td>5</td>\n      <td>4.195784</td>\n      <td>7.000000</td>\n      <td>10.0</td>\n      <td>7.065261</td>\n      <td>2.776667</td>\n    </tr>\n    <tr>\n      <th>2114</th>\n      <td>2021-03-27 01:00:00</td>\n      <td>49</td>\n      <td>0</td>\n      <td>1</td>\n      <td>3</td>\n      <td>1</td>\n      <td>5</td>\n      <td>2.776667</td>\n      <td>4.195784</td>\n      <td>7.0</td>\n      <td>4.657483</td>\n      <td>1.824132</td>\n    </tr>\n  </tbody>\n</table>\n<p>141 rows × 12 columns</p>\n</div>"
     },
     "metadata": {},
     "execution_count": 10
    }
   ],
   "source": [
    "data_with_lag = df[df['ts']>=datetime(2021,3,27,00,00,00)].__copy__()\n",
    "data_with_lag"
   ]
  },
  {
   "cell_type": "code",
   "execution_count": 11,
   "metadata": {},
   "outputs": [],
   "source": [
    "data_with_lag.to_csv('../Data/test_dataset_prediction_output/prediction_with_lag_model.csv',index = False, compression = 'gzip')"
   ]
  },
  {
   "cell_type": "markdown",
   "metadata": {},
   "source": [
    "### Thank You for Choosing this Project. Hope you liked it. Check our Scripts Folder for Modularized py scripts. "
   ]
  }
 ],
 "metadata": {
  "kernelspec": {
   "name": "python385jvsc74a57bd037eb40c3388cfde35488e2d005b0d69ca91ddeff8a429754d4da636d3f888e5e",
   "display_name": "Python 3.8.5 64-bit ('base': conda)"
  },
  "language_info": {
   "codemirror_mode": {
    "name": "ipython",
    "version": 3
   },
   "file_extension": ".py",
   "mimetype": "text/x-python",
   "name": "python",
   "nbconvert_exporter": "python",
   "pygments_lexer": "ipython3",
   "version": "3.8.5"
  }
 },
 "nbformat": 4,
 "nbformat_minor": 4
}